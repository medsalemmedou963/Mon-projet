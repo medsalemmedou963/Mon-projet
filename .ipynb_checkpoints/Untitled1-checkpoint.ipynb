{
 "cells": [
  {
   "cell_type": "code",
   "execution_count": 2,
   "id": "1b13e518",
   "metadata": {},
   "outputs": [
    {
     "name": "stdout",
     "output_type": "stream",
     "text": [
      "Requirement already satisfied: gradio in c:\\users\\bk\\anaconda3\\lib\\site-packages (3.34.0)\n",
      "Requirement already satisfied: pydantic in c:\\users\\bk\\anaconda3\\lib\\site-packages (from gradio) (1.10.9)\n",
      "Requirement already satisfied: pygments>=2.12.0 in c:\\users\\bk\\anaconda3\\lib\\site-packages (from gradio) (2.15.1)\n",
      "Requirement already satisfied: pandas in c:\\users\\bk\\anaconda3\\lib\\site-packages (from gradio) (1.5.3)\n",
      "Requirement already satisfied: huggingface-hub>=0.14.0 in c:\\users\\bk\\anaconda3\\lib\\site-packages (from gradio) (0.15.1)\n",
      "Requirement already satisfied: numpy in c:\\users\\bk\\anaconda3\\lib\\site-packages (from gradio) (1.23.5)\n",
      "Requirement already satisfied: aiohttp in c:\\users\\bk\\anaconda3\\lib\\site-packages (from gradio) (3.8.4)\n",
      "Requirement already satisfied: altair>=4.2.0 in c:\\users\\bk\\anaconda3\\lib\\site-packages (from gradio) (5.0.1)\n",
      "Requirement already satisfied: ffmpy in c:\\users\\bk\\anaconda3\\lib\\site-packages (from gradio) (0.3.0)\n",
      "Requirement already satisfied: pydub in c:\\users\\bk\\anaconda3\\lib\\site-packages (from gradio) (0.25.1)\n",
      "Requirement already satisfied: pillow in c:\\users\\bk\\anaconda3\\lib\\site-packages (from gradio) (9.4.0)\n",
      "Requirement already satisfied: orjson in c:\\users\\bk\\anaconda3\\lib\\site-packages (from gradio) (3.9.1)\n",
      "Requirement already satisfied: semantic-version in c:\\users\\bk\\anaconda3\\lib\\site-packages (from gradio) (2.10.0)\n",
      "Requirement already satisfied: websockets>=10.0 in c:\\users\\bk\\anaconda3\\lib\\site-packages (from gradio) (11.0.3)\n",
      "Requirement already satisfied: pyyaml in c:\\users\\bk\\anaconda3\\lib\\site-packages (from gradio) (6.0)\n",
      "Requirement already satisfied: matplotlib in c:\\users\\bk\\anaconda3\\lib\\site-packages (from gradio) (3.7.0)\n",
      "Requirement already satisfied: gradio-client>=0.2.6 in c:\\users\\bk\\anaconda3\\lib\\site-packages (from gradio) (0.2.6)\n",
      "Requirement already satisfied: requests in c:\\users\\bk\\anaconda3\\lib\\site-packages (from gradio) (2.28.1)\n",
      "Requirement already satisfied: mdit-py-plugins<=0.3.3 in c:\\users\\bk\\anaconda3\\lib\\site-packages (from gradio) (0.3.3)\n",
      "Requirement already satisfied: python-multipart in c:\\users\\bk\\anaconda3\\lib\\site-packages (from gradio) (0.0.6)\n",
      "Requirement already satisfied: typing-extensions in c:\\users\\bk\\anaconda3\\lib\\site-packages (from gradio) (4.4.0)\n",
      "Requirement already satisfied: markupsafe in c:\\users\\bk\\anaconda3\\lib\\site-packages (from gradio) (2.1.1)\n",
      "Requirement already satisfied: fastapi in c:\\users\\bk\\anaconda3\\lib\\site-packages (from gradio) (0.96.1)\n",
      "Requirement already satisfied: httpx in c:\\users\\bk\\anaconda3\\lib\\site-packages (from gradio) (0.24.1)\n",
      "Requirement already satisfied: aiofiles in c:\\users\\bk\\anaconda3\\lib\\site-packages (from gradio) (23.1.0)\n",
      "Requirement already satisfied: markdown-it-py[linkify]>=2.0.0 in c:\\users\\bk\\anaconda3\\lib\\site-packages (from gradio) (2.2.0)\n",
      "Requirement already satisfied: uvicorn>=0.14.0 in c:\\users\\bk\\anaconda3\\lib\\site-packages (from gradio) (0.22.0)\n",
      "Requirement already satisfied: jinja2 in c:\\users\\bk\\anaconda3\\lib\\site-packages (from gradio) (3.1.2)\n",
      "Requirement already satisfied: jsonschema>=3.0 in c:\\users\\bk\\anaconda3\\lib\\site-packages (from altair>=4.2.0->gradio) (4.17.3)\n",
      "Requirement already satisfied: toolz in c:\\users\\bk\\anaconda3\\lib\\site-packages (from altair>=4.2.0->gradio) (0.12.0)\n",
      "Requirement already satisfied: packaging in c:\\users\\bk\\anaconda3\\lib\\site-packages (from gradio-client>=0.2.6->gradio) (22.0)\n",
      "Requirement already satisfied: fsspec in c:\\users\\bk\\anaconda3\\lib\\site-packages (from gradio-client>=0.2.6->gradio) (2022.11.0)\n",
      "Requirement already satisfied: filelock in c:\\users\\bk\\anaconda3\\lib\\site-packages (from huggingface-hub>=0.14.0->gradio) (3.9.0)\n",
      "Requirement already satisfied: tqdm>=4.42.1 in c:\\users\\bk\\anaconda3\\lib\\site-packages (from huggingface-hub>=0.14.0->gradio) (4.64.1)\n",
      "Requirement already satisfied: mdurl~=0.1 in c:\\users\\bk\\anaconda3\\lib\\site-packages (from markdown-it-py[linkify]>=2.0.0->gradio) (0.1.2)\n",
      "Requirement already satisfied: linkify-it-py<3,>=1 in c:\\users\\bk\\anaconda3\\lib\\site-packages (from markdown-it-py[linkify]>=2.0.0->gradio) (2.0.2)\n",
      "Requirement already satisfied: python-dateutil>=2.8.1 in c:\\users\\bk\\anaconda3\\lib\\site-packages (from pandas->gradio) (2.8.2)\n",
      "Requirement already satisfied: pytz>=2020.1 in c:\\users\\bk\\anaconda3\\lib\\site-packages (from pandas->gradio) (2022.7)\n",
      "Requirement already satisfied: h11>=0.8 in c:\\users\\bk\\anaconda3\\lib\\site-packages (from uvicorn>=0.14.0->gradio) (0.14.0)\n",
      "Requirement already satisfied: click>=7.0 in c:\\users\\bk\\anaconda3\\lib\\site-packages (from uvicorn>=0.14.0->gradio) (8.0.4)\n",
      "Requirement already satisfied: yarl<2.0,>=1.0 in c:\\users\\bk\\anaconda3\\lib\\site-packages (from aiohttp->gradio) (1.9.2)\n",
      "Requirement already satisfied: charset-normalizer<4.0,>=2.0 in c:\\users\\bk\\anaconda3\\lib\\site-packages (from aiohttp->gradio) (2.0.4)\n",
      "Requirement already satisfied: attrs>=17.3.0 in c:\\users\\bk\\anaconda3\\lib\\site-packages (from aiohttp->gradio) (22.1.0)\n",
      "Requirement already satisfied: aiosignal>=1.1.2 in c:\\users\\bk\\anaconda3\\lib\\site-packages (from aiohttp->gradio) (1.3.1)\n",
      "Requirement already satisfied: async-timeout<5.0,>=4.0.0a3 in c:\\users\\bk\\anaconda3\\lib\\site-packages (from aiohttp->gradio) (4.0.2)\n",
      "Requirement already satisfied: multidict<7.0,>=4.5 in c:\\users\\bk\\anaconda3\\lib\\site-packages (from aiohttp->gradio) (6.0.4)\n",
      "Requirement already satisfied: frozenlist>=1.1.1 in c:\\users\\bk\\anaconda3\\lib\\site-packages (from aiohttp->gradio) (1.3.3)\n",
      "Requirement already satisfied: starlette<0.28.0,>=0.27.0 in c:\\users\\bk\\anaconda3\\lib\\site-packages (from fastapi->gradio) (0.27.0)\n",
      "Requirement already satisfied: idna in c:\\users\\bk\\anaconda3\\lib\\site-packages (from httpx->gradio) (3.4)\n",
      "Requirement already satisfied: certifi in c:\\users\\bk\\anaconda3\\lib\\site-packages (from httpx->gradio) (2022.12.7)\n",
      "Requirement already satisfied: httpcore<0.18.0,>=0.15.0 in c:\\users\\bk\\anaconda3\\lib\\site-packages (from httpx->gradio) (0.17.2)\n",
      "Requirement already satisfied: sniffio in c:\\users\\bk\\anaconda3\\lib\\site-packages (from httpx->gradio) (1.2.0)\n",
      "Requirement already satisfied: cycler>=0.10 in c:\\users\\bk\\anaconda3\\lib\\site-packages (from matplotlib->gradio) (0.11.0)\n",
      "Requirement already satisfied: contourpy>=1.0.1 in c:\\users\\bk\\anaconda3\\lib\\site-packages (from matplotlib->gradio) (1.0.5)\n",
      "Requirement already satisfied: kiwisolver>=1.0.1 in c:\\users\\bk\\anaconda3\\lib\\site-packages (from matplotlib->gradio) (1.4.4)\n",
      "Requirement already satisfied: pyparsing>=2.3.1 in c:\\users\\bk\\anaconda3\\lib\\site-packages (from matplotlib->gradio) (3.0.9)\n",
      "Requirement already satisfied: fonttools>=4.22.0 in c:\\users\\bk\\anaconda3\\lib\\site-packages (from matplotlib->gradio) (4.25.0)\n",
      "Requirement already satisfied: urllib3<1.27,>=1.21.1 in c:\\users\\bk\\anaconda3\\lib\\site-packages (from requests->gradio) (1.26.14)\n",
      "Requirement already satisfied: colorama in c:\\users\\bk\\anaconda3\\lib\\site-packages (from click>=7.0->uvicorn>=0.14.0->gradio) (0.4.6)\n",
      "Requirement already satisfied: anyio<5.0,>=3.0 in c:\\users\\bk\\anaconda3\\lib\\site-packages (from httpcore<0.18.0,>=0.15.0->httpx->gradio) (3.5.0)\n",
      "Requirement already satisfied: pyrsistent!=0.17.0,!=0.17.1,!=0.17.2,>=0.14.0 in c:\\users\\bk\\anaconda3\\lib\\site-packages (from jsonschema>=3.0->altair>=4.2.0->gradio) (0.18.0)\n",
      "Requirement already satisfied: uc-micro-py in c:\\users\\bk\\anaconda3\\lib\\site-packages (from linkify-it-py<3,>=1->markdown-it-py[linkify]>=2.0.0->gradio) (1.0.2)\n",
      "Requirement already satisfied: six>=1.5 in c:\\users\\bk\\anaconda3\\lib\\site-packages (from python-dateutil>=2.8.1->pandas->gradio) (1.16.0)\n"
     ]
    }
   ],
   "source": [
    "!pip install gradio"
   ]
  },
  {
   "cell_type": "code",
   "execution_count": 3,
   "id": "3db1f630",
   "metadata": {},
   "outputs": [],
   "source": [
    "import gradio as gr  "
   ]
  },
  {
   "cell_type": "code",
   "execution_count": 4,
   "id": "45e8732a",
   "metadata": {},
   "outputs": [],
   "source": [
    "import pandas as pd \n",
    "import matplotlib.pyplot as plt "
   ]
  },
  {
   "cell_type": "code",
   "execution_count": 6,
   "id": "9a9c7a60",
   "metadata": {},
   "outputs": [
    {
     "name": "stderr",
     "output_type": "stream",
     "text": [
      "C:\\Users\\BK\\anaconda3\\lib\\site-packages\\gradio\\inputs.py:27: UserWarning: Usage of gradio.inputs is deprecated, and will not be supported in the future, please import your component from gradio.components\n",
      "  warnings.warn(\n",
      "C:\\Users\\BK\\anaconda3\\lib\\site-packages\\gradio\\inputs.py:30: UserWarning: `optional` parameter is deprecated, and it has no effect\n",
      "  super().__init__(\n",
      "C:\\Users\\BK\\anaconda3\\lib\\site-packages\\gradio\\inputs.py:30: UserWarning: `numeric` parameter is deprecated, and it has no effect\n",
      "  super().__init__(\n"
     ]
    },
    {
     "name": "stdout",
     "output_type": "stream",
     "text": [
      "Running on local URL:  http://127.0.0.1:7864\n",
      "\n",
      "To create a public link, set `share=True` in `launch()`.\n"
     ]
    },
    {
     "data": {
      "text/html": [
       "<div><iframe src=\"http://127.0.0.1:7864/\" width=\"100%\" height=\"500\" allow=\"autoplay; camera; microphone; clipboard-read; clipboard-write;\" frameborder=\"0\" allowfullscreen></iframe></div>"
      ],
      "text/plain": [
       "<IPython.core.display.HTML object>"
      ]
     },
     "metadata": {},
     "output_type": "display_data"
    },
    {
     "ename": "KeyError",
     "evalue": "'STATION_NAME'",
     "output_type": "error",
     "traceback": [
      "\u001b[1;31m---------------------------------------------------------------------------\u001b[0m",
      "\u001b[1;31mKeyError\u001b[0m                                  Traceback (most recent call last)",
      "File \u001b[1;32m~\\anaconda3\\lib\\site-packages\\pandas\\core\\indexes\\base.py:3802\u001b[0m, in \u001b[0;36mIndex.get_loc\u001b[1;34m(self, key, method, tolerance)\u001b[0m\n\u001b[0;32m   3801\u001b[0m \u001b[38;5;28;01mtry\u001b[39;00m:\n\u001b[1;32m-> 3802\u001b[0m     \u001b[38;5;28;01mreturn\u001b[39;00m \u001b[38;5;28;43mself\u001b[39;49m\u001b[38;5;241;43m.\u001b[39;49m\u001b[43m_engine\u001b[49m\u001b[38;5;241;43m.\u001b[39;49m\u001b[43mget_loc\u001b[49m\u001b[43m(\u001b[49m\u001b[43mcasted_key\u001b[49m\u001b[43m)\u001b[49m\n\u001b[0;32m   3803\u001b[0m \u001b[38;5;28;01mexcept\u001b[39;00m \u001b[38;5;167;01mKeyError\u001b[39;00m \u001b[38;5;28;01mas\u001b[39;00m err:\n",
      "File \u001b[1;32m~\\anaconda3\\lib\\site-packages\\pandas\\_libs\\index.pyx:138\u001b[0m, in \u001b[0;36mpandas._libs.index.IndexEngine.get_loc\u001b[1;34m()\u001b[0m\n",
      "File \u001b[1;32m~\\anaconda3\\lib\\site-packages\\pandas\\_libs\\index.pyx:165\u001b[0m, in \u001b[0;36mpandas._libs.index.IndexEngine.get_loc\u001b[1;34m()\u001b[0m\n",
      "File \u001b[1;32mpandas\\_libs\\hashtable_class_helper.pxi:5745\u001b[0m, in \u001b[0;36mpandas._libs.hashtable.PyObjectHashTable.get_item\u001b[1;34m()\u001b[0m\n",
      "File \u001b[1;32mpandas\\_libs\\hashtable_class_helper.pxi:5753\u001b[0m, in \u001b[0;36mpandas._libs.hashtable.PyObjectHashTable.get_item\u001b[1;34m()\u001b[0m\n",
      "\u001b[1;31mKeyError\u001b[0m: 'STATION_NAME'",
      "\nThe above exception was the direct cause of the following exception:\n",
      "\u001b[1;31mKeyError\u001b[0m                                  Traceback (most recent call last)",
      "Cell \u001b[1;32mIn[6], line 32\u001b[0m\n\u001b[0;32m     29\u001b[0m   \u001b[38;5;66;03m# Lancer l'interface\u001b[39;00m\n\u001b[0;32m     30\u001b[0m interface\u001b[38;5;241m.\u001b[39mlaunch()\n\u001b[1;32m---> 32\u001b[0m \u001b[43mprevisions_meteo_interactives\u001b[49m\u001b[43m(\u001b[49m\u001b[38;5;124;43m\"\u001b[39;49m\u001b[38;5;124;43mPETERSBURG 2 N ND US\u001b[39;49m\u001b[38;5;124;43m\"\u001b[39;49m\u001b[43m)\u001b[49m\n",
      "Cell \u001b[1;32mIn[6], line 18\u001b[0m, in \u001b[0;36mprevisions_meteo_interactives\u001b[1;34m(lieu)\u001b[0m\n\u001b[0;32m     17\u001b[0m \u001b[38;5;28;01mdef\u001b[39;00m \u001b[38;5;21mprevisions_meteo_interactives\u001b[39m(lieu):       \n\u001b[1;32m---> 18\u001b[0m         \u001b[43mafficher_previsions_meteo\u001b[49m\u001b[43m(\u001b[49m\u001b[43mlieu\u001b[49m\u001b[43m)\u001b[49m\n",
      "Cell \u001b[1;32mIn[6], line 4\u001b[0m, in \u001b[0;36mafficher_previsions_meteo\u001b[1;34m(lieu)\u001b[0m\n\u001b[0;32m      3\u001b[0m \u001b[38;5;28;01mdef\u001b[39;00m \u001b[38;5;21mafficher_previsions_meteo\u001b[39m(lieu):\n\u001b[1;32m----> 4\u001b[0m         df_lieu \u001b[38;5;241m=\u001b[39m df[\u001b[43mdf\u001b[49m\u001b[43m[\u001b[49m\u001b[38;5;124;43m'\u001b[39;49m\u001b[38;5;124;43mSTATION_NAME\u001b[39;49m\u001b[38;5;124;43m'\u001b[39;49m\u001b[43m]\u001b[49m \u001b[38;5;241m==\u001b[39m lieu]\n\u001b[0;32m      6\u001b[0m         plt\u001b[38;5;241m.\u001b[39mfigure(figsize\u001b[38;5;241m=\u001b[39m(\u001b[38;5;241m10\u001b[39m, \u001b[38;5;241m6\u001b[39m))\n\u001b[0;32m      7\u001b[0m         plt\u001b[38;5;241m.\u001b[39mplot(df_lieu[\u001b[38;5;124m'\u001b[39m\u001b[38;5;124mDATE\u001b[39m\u001b[38;5;124m'\u001b[39m], df_lieu[\u001b[38;5;124m'\u001b[39m\u001b[38;5;124mTMAX\u001b[39m\u001b[38;5;124m'\u001b[39m], label\u001b[38;5;241m=\u001b[39m\u001b[38;5;124m'\u001b[39m\u001b[38;5;124mTempérature maximale\u001b[39m\u001b[38;5;124m'\u001b[39m)\n",
      "File \u001b[1;32m~\\anaconda3\\lib\\site-packages\\pandas\\core\\frame.py:3807\u001b[0m, in \u001b[0;36mDataFrame.__getitem__\u001b[1;34m(self, key)\u001b[0m\n\u001b[0;32m   3805\u001b[0m \u001b[38;5;28;01mif\u001b[39;00m \u001b[38;5;28mself\u001b[39m\u001b[38;5;241m.\u001b[39mcolumns\u001b[38;5;241m.\u001b[39mnlevels \u001b[38;5;241m>\u001b[39m \u001b[38;5;241m1\u001b[39m:\n\u001b[0;32m   3806\u001b[0m     \u001b[38;5;28;01mreturn\u001b[39;00m \u001b[38;5;28mself\u001b[39m\u001b[38;5;241m.\u001b[39m_getitem_multilevel(key)\n\u001b[1;32m-> 3807\u001b[0m indexer \u001b[38;5;241m=\u001b[39m \u001b[38;5;28;43mself\u001b[39;49m\u001b[38;5;241;43m.\u001b[39;49m\u001b[43mcolumns\u001b[49m\u001b[38;5;241;43m.\u001b[39;49m\u001b[43mget_loc\u001b[49m\u001b[43m(\u001b[49m\u001b[43mkey\u001b[49m\u001b[43m)\u001b[49m\n\u001b[0;32m   3808\u001b[0m \u001b[38;5;28;01mif\u001b[39;00m is_integer(indexer):\n\u001b[0;32m   3809\u001b[0m     indexer \u001b[38;5;241m=\u001b[39m [indexer]\n",
      "File \u001b[1;32m~\\anaconda3\\lib\\site-packages\\pandas\\core\\indexes\\base.py:3804\u001b[0m, in \u001b[0;36mIndex.get_loc\u001b[1;34m(self, key, method, tolerance)\u001b[0m\n\u001b[0;32m   3802\u001b[0m     \u001b[38;5;28;01mreturn\u001b[39;00m \u001b[38;5;28mself\u001b[39m\u001b[38;5;241m.\u001b[39m_engine\u001b[38;5;241m.\u001b[39mget_loc(casted_key)\n\u001b[0;32m   3803\u001b[0m \u001b[38;5;28;01mexcept\u001b[39;00m \u001b[38;5;167;01mKeyError\u001b[39;00m \u001b[38;5;28;01mas\u001b[39;00m err:\n\u001b[1;32m-> 3804\u001b[0m     \u001b[38;5;28;01mraise\u001b[39;00m \u001b[38;5;167;01mKeyError\u001b[39;00m(key) \u001b[38;5;28;01mfrom\u001b[39;00m \u001b[38;5;21;01merr\u001b[39;00m\n\u001b[0;32m   3805\u001b[0m \u001b[38;5;28;01mexcept\u001b[39;00m \u001b[38;5;167;01mTypeError\u001b[39;00m:\n\u001b[0;32m   3806\u001b[0m     \u001b[38;5;66;03m# If we have a listlike key, _check_indexing_error will raise\u001b[39;00m\n\u001b[0;32m   3807\u001b[0m     \u001b[38;5;66;03m#  InvalidIndexError. Otherwise we fall through and re-raise\u001b[39;00m\n\u001b[0;32m   3808\u001b[0m     \u001b[38;5;66;03m#  the TypeError.\u001b[39;00m\n\u001b[0;32m   3809\u001b[0m     \u001b[38;5;28mself\u001b[39m\u001b[38;5;241m.\u001b[39m_check_indexing_error(key)\n",
      "\u001b[1;31mKeyError\u001b[0m: 'STATION_NAME'"
     ]
    }
   ],
   "source": [
    "\n",
    "df = pd.read_csv('C:\\\\Users\\\\BK\\\\Desktop\\\\projet python\\\\Temperature2.csv') \n",
    "\n",
    "def afficher_previsions_meteo(lieu):\n",
    "        df_lieu = df[df['STATION_NAME'] == lieu]\n",
    "    \n",
    "        plt.figure(figsize=(10, 6))\n",
    "        plt.plot(df_lieu['DATE'], df_lieu['TMAX'], label='Température maximale')\n",
    "        plt.plot(df_lieu['DATE'], df_lieu['TMIN'], label='Temperature minimale')\n",
    "        plt.plot(df_lieu['DATE'], df_lieu['PRCP'], label='Précipitations')\n",
    "        plt.xlabel(\"Date\")\n",
    "        plt.ylabel(\"Valeur\")\n",
    "        plt.title(f\"Prévisions météorologiques pour {lieu}\")\n",
    "        plt.legend()\n",
    "        plt.xticks(rotation=45)\n",
    "        plt.show()\n",
    "        \n",
    "def previsions_meteo_interactives(lieu):       \n",
    "        afficher_previsions_meteo(lieu)\n",
    "    # Créer l'interface Gradio\n",
    "interface = gr.Interface(\n",
    "        fn=previsions_meteo_interactives,\n",
    "        inputs=gr.inputs.Textbox(label=\"Lieu\", default=\"Paris\"),\n",
    "        outputs=None, \n",
    "        title=\"Prévisions Météo Interactives\",\n",
    "        description=\"Entrez un lieu et visualisez des graphiques ou des diagrammes interactifs, montrant les prévisions de température et de précipitations.\",\n",
    "        examples=[\"Paris\"],\n",
    ") \n",
    "    \n",
    "  # Lancer l'interface\n",
    "interface.launch()\n",
    "\n",
    "previsions_meteo_interactives(\"Paris\")\n"
   ]
  },
  {
   "cell_type": "code",
   "execution_count": null,
   "id": "b02de1b3",
   "metadata": {},
   "outputs": [],
   "source": []
  },
  {
   "cell_type": "code",
   "execution_count": null,
   "id": "57af90d0",
   "metadata": {},
   "outputs": [],
   "source": []
  },
  {
   "cell_type": "code",
   "execution_count": null,
   "id": "0704a290",
   "metadata": {},
   "outputs": [],
   "source": []
  }
 ],
 "metadata": {
  "kernelspec": {
   "display_name": "Python 3 (ipykernel)",
   "language": "python",
   "name": "python3"
  },
  "language_info": {
   "codemirror_mode": {
    "name": "ipython",
    "version": 3
   },
   "file_extension": ".py",
   "mimetype": "text/x-python",
   "name": "python",
   "nbconvert_exporter": "python",
   "pygments_lexer": "ipython3",
   "version": "3.10.9"
  }
 },
 "nbformat": 4,
 "nbformat_minor": 5
}
